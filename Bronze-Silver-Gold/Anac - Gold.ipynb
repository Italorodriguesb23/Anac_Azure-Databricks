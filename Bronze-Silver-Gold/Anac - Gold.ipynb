{
 "cells": [
  {
   "cell_type": "code",
   "execution_count": 0,
   "metadata": {
    "application/vnd.databricks.v1+cell": {
     "cellMetadata": {},
     "inputWidgets": {},
     "nuid": "4b5ad381-a804-4614-a37b-15423e40526d",
     "showTitle": false,
     "tableResultSettingsMap": {},
     "title": ""
    }
   },
   "outputs": [],
   "source": [
    "\"\"\"\n",
    "Propostos:\n",
    "\n",
    "1°) Selecionar somente algumas colunas\n",
    "2°) Criar uma nova coluna que faz a soma de todas as lesões\n",
    "3°) Renomear colunas para ficar melhor intuitivas\n",
    "4°) Excluir dados que tenham a classificação [Indeterminado, Sem Registro, Exterior]\n",
    "5°) Criar coluna com nome atualização, para saber quando os dados foram atualizados\n",
    "6°) Salvar a camada Gold particionado por estado\n",
    "7°) Criar consultas com os dados particionados do estado de SP\n",
    "\n",
    "\"\"\""
   ]
  },
  {
   "cell_type": "code",
   "execution_count": 0,
   "metadata": {
    "application/vnd.databricks.v1+cell": {
     "cellMetadata": {
      "byteLimit": 2048000,
      "rowLimit": 10000
     },
     "inputWidgets": {},
     "nuid": "9837eaa8-3062-4fe3-b8cc-e1fccbbaf011",
     "showTitle": false,
     "tableResultSettingsMap": {},
     "title": ""
    }
   },
   "outputs": [],
   "source": [
    "df = spark.read.parquet(\"dbfs:/mnt/Anac/Silver/anac_silver.parquet\")\n",
    "display(df)"
   ]
  },
  {
   "cell_type": "code",
   "execution_count": 0,
   "metadata": {
    "application/vnd.databricks.v1+cell": {
     "cellMetadata": {
      "byteLimit": 2048000,
      "rowLimit": 10000
     },
     "inputWidgets": {},
     "nuid": "e749e94f-d12b-489b-ac80-a872871d1db5",
     "showTitle": false,
     "tableResultSettingsMap": {},
     "title": ""
    }
   },
   "outputs": [],
   "source": [
    "print(df.columns)"
   ]
  },
  {
   "cell_type": "code",
   "execution_count": 0,
   "metadata": {
    "application/vnd.databricks.v1+cell": {
     "cellMetadata": {
      "byteLimit": 2048000,
      "rowLimit": 10000
     },
     "inputWidgets": {},
     "nuid": "6a02c972-2ea7-4d67-a2cf-0553086df4f1",
     "showTitle": false,
     "tableResultSettingsMap": {},
     "title": ""
    }
   },
   "outputs": [],
   "source": [
    "#Selecionando algumas colunas\n",
    "colunas = ['Aerodromo_de_Destino', 'Aerodromo_de_Origem', 'Classificacao_da_Ocorrência', 'Danos_a_Aeronave', 'Data_da_Ocorrencia', 'Regiao', 'UF', 'Tipo_de_Aerodromo', 'Tipo_de_Ocorrencia', 'Lesoes_Desconhecidas_Passageiros', 'Lesoes_Desconhecidas_Terceiros', 'Lesoes_Desconhecidas_Tripulantes', 'Lesoes_Fatais_Passageiros', 'Lesoes_Fatais_Terceiros', 'Lesoes_Fatais_Tripulantes', 'Lesoes_Graves_Passageiros', 'Lesoes_Graves_Terceiros', 'Lesoes_Graves_Tripulantes', 'Lesoes_Leves_Passageiros', 'Lesoes_Leves_Terceiros', 'Lesoes_Leves_Tripulantes']\n",
    "\n",
    "df = df.select(colunas)\n",
    "display(df)"
   ]
  },
  {
   "cell_type": "code",
   "execution_count": 0,
   "metadata": {
    "application/vnd.databricks.v1+cell": {
     "cellMetadata": {
      "byteLimit": 2048000,
      "rowLimit": 10000
     },
     "inputWidgets": {},
     "nuid": "129d2b12-28e2-412c-b722-ab5d32b7ed2c",
     "showTitle": false,
     "tableResultSettingsMap": {},
     "title": ""
    }
   },
   "outputs": [],
   "source": [
    "# Criando coluna que soma as lesões\n",
    "somando_colunas = [\n",
    "    'Lesoes_Desconhecidas_Passageiros', \n",
    "    'Lesoes_Desconhecidas_Terceiros', \n",
    "    'Lesoes_Desconhecidas_Tripulantes', \n",
    "    'Lesoes_Fatais_Passageiros', \n",
    "    'Lesoes_Fatais_Terceiros', \n",
    "    'Lesoes_Fatais_Tripulantes', \n",
    "    'Lesoes_Graves_Passageiros', \n",
    "    'Lesoes_Graves_Terceiros', \n",
    "    'Lesoes_Graves_Tripulantes', \n",
    "    'Lesoes_Leves_Passageiros', \n",
    "    'Lesoes_Leves_Terceiros', \n",
    "    'Lesoes_Leves_Tripulantes'\n",
    "    ]\n",
    "df = df.withColumn(\"Total_Lesoes\", sum(df[somartudo] for somartudo in somando_colunas))\n",
    "display(df)"
   ]
  },
  {
   "cell_type": "code",
   "execution_count": 0,
   "metadata": {
    "application/vnd.databricks.v1+cell": {
     "cellMetadata": {
      "byteLimit": 2048000,
      "rowLimit": 10000
     },
     "inputWidgets": {},
     "nuid": "3c77cd60-87cd-4bb3-abf4-703e88030c1d",
     "showTitle": false,
     "tableResultSettingsMap": {},
     "title": ""
    }
   },
   "outputs": [],
   "source": [
    "# Renomeando para ficar mais intuitivo\n",
    "\n",
    "df = df\\\n",
    "    .withColumnRenamed(\"Aerodromo_de_Destino\", \"Destino\")\\\n",
    "    .withColumnRenamed(\"Aerodromo_de_Origem\", \"Origem\")\\\n",
    "    .withColumnRenamed(\"Classificacao_da_Ocorrência\", \"Classificacao\")\\\n",
    "    .withColumnRenamed(\"Danos_a_Aeronave\", \"Danos\")\\\n",
    "    .withColumnRenamed(\"Data_da_Ocorrencia\", \"Data\")\\\n",
    "    .withColumnRenamed(\"UF\", \"Estado\")\n",
    "display(df)"
   ]
  },
  {
   "cell_type": "code",
   "execution_count": 0,
   "metadata": {
    "application/vnd.databricks.v1+cell": {
     "cellMetadata": {
      "byteLimit": 2048000,
      "rowLimit": 10000
     },
     "inputWidgets": {},
     "nuid": "5f4b2987-4cc1-478d-9c4e-915ddeb92558",
     "showTitle": false,
     "tableResultSettingsMap": {},
     "title": ""
    }
   },
   "outputs": [],
   "source": [
    "#4°) Excluir dados que estados tenham a classificação [Indeterminado, Sem Registro, Exterior]\n",
    "\n",
    "filtro = [\"Indeterminado\", \"Sem Registro\", \"Exterior\"]\n",
    "df = df.filter(~df['Estado'].isin(filtro))\n",
    "display(df)"
   ]
  },
  {
   "cell_type": "code",
   "execution_count": 0,
   "metadata": {
    "application/vnd.databricks.v1+cell": {
     "cellMetadata": {
      "byteLimit": 2048000,
      "rowLimit": 10000
     },
     "inputWidgets": {},
     "nuid": "6ce904b5-5a60-4eb4-96ec-c086cb98e0e3",
     "showTitle": false,
     "tableResultSettingsMap": {},
     "title": ""
    }
   },
   "outputs": [],
   "source": [
    "#Criar coluna com nome atualização, para saber quando os dados foram atualizados\n",
    "\n",
    "from pyspark.sql.functions import current_timestamp, date_format, from_utc_timestamp\n",
    "df = df.withColumn(\"Atualizacao\",\\\n",
    "    date_format(from_utc_timestamp(current_timestamp(), \"America/Sao_Paulo\"), \"yyyy-MM-dd HH:mm:ss\"))\n",
    "display(df)"
   ]
  },
  {
   "cell_type": "code",
   "execution_count": 0,
   "metadata": {
    "application/vnd.databricks.v1+cell": {
     "cellMetadata": {
      "byteLimit": 2048000,
      "rowLimit": 10000
     },
     "inputWidgets": {},
     "nuid": "cf135889-48a3-4b22-9cd5-e29bdfcf119e",
     "showTitle": false,
     "tableResultSettingsMap": {},
     "title": ""
    }
   },
   "outputs": [],
   "source": [
    "#Salvar a camada Gold particionado por estado\n",
    "df.write\\\n",
    "    .mode(\"overwrite\")\\\n",
    "    .format(\"parquet\")\\\n",
    "    .partitionBy(\"Estado\")\\\n",
    "    .save(\"dbfs:/mnt/Anac/Gold/anac_gold_por_estado\")"
   ]
  },
  {
   "cell_type": "code",
   "execution_count": 0,
   "metadata": {
    "application/vnd.databricks.v1+cell": {
     "cellMetadata": {
      "byteLimit": 2048000,
      "rowLimit": 10000
     },
     "inputWidgets": {},
     "nuid": "f02c154a-4e4e-4bfc-810c-0ac41d8419f7",
     "showTitle": false,
     "tableResultSettingsMap": {},
     "title": ""
    }
   },
   "outputs": [],
   "source": [
    "#Visualizando arquivos particionados de cada estado\n",
    "%fs ls dbfs:/mnt/Anac/Gold/anac_gold_por_estado"
   ]
  },
  {
   "cell_type": "code",
   "execution_count": 0,
   "metadata": {
    "application/vnd.databricks.v1+cell": {
     "cellMetadata": {
      "byteLimit": 2048000,
      "rowLimit": 10000
     },
     "inputWidgets": {},
     "nuid": "0ccaf89b-be34-4ca3-9360-30ed8775c9b8",
     "showTitle": false,
     "tableResultSettingsMap": {
      "0": {
       "dataGridStateBlob": null,
       "filterBlob": "{\"filterGroups\":[],\"syncTimestamp\":1745444228046}",
       "queryPlanFiltersBlob": null,
       "tableResultIndex": 0
      }
     },
     "title": ""
    }
   },
   "outputs": [],
   "source": [
    "#Visualizando tabelas do estado de SP\n",
    "display(spark.read.parquet(\"dbfs:/mnt/Anac/Gold/anac_gold_por_estado/Estado=SP/\"))"
   ]
  },
  {
   "cell_type": "code",
   "execution_count": 0,
   "metadata": {
    "application/vnd.databricks.v1+cell": {
     "cellMetadata": {},
     "inputWidgets": {},
     "nuid": "8737e6b0-ca95-4175-b4b6-e65578c0f8a2",
     "showTitle": false,
     "tableResultSettingsMap": {},
     "title": ""
    }
   },
   "outputs": [],
   "source": [
    "# Criando consultas SQL para ajudar o time de análise de dados a criar dashboards\n"
   ]
  },
  {
   "cell_type": "code",
   "execution_count": 0,
   "metadata": {
    "application/vnd.databricks.v1+cell": {
     "cellMetadata": {
      "byteLimit": 2048000,
      "implicitDf": true,
      "rowLimit": 10000
     },
     "inputWidgets": {},
     "nuid": "346918a9-8cc6-4fcf-9ed6-e5d504de167d",
     "showTitle": false,
     "tableResultSettingsMap": {},
     "title": ""
    }
   },
   "outputs": [],
   "source": [
    "%sql\n",
    "create or replace temp view anac_sp\n",
    "using parquet\n",
    "options (path \"/mnt/Anac/Gold/anac_gold_por_estado/Estado=SP/\");"
   ]
  },
  {
   "cell_type": "code",
   "execution_count": 0,
   "metadata": {
    "application/vnd.databricks.v1+cell": {
     "cellMetadata": {
      "byteLimit": 2048000,
      "implicitDf": true,
      "rowLimit": 10000
     },
     "inputWidgets": {},
     "nuid": "6f1441da-d82a-4543-85f6-265f8fedd07b",
     "showTitle": false,
     "tableResultSettingsMap": {},
     "title": ""
    }
   },
   "outputs": [],
   "source": [
    "%sql\n",
    "\n",
    "--Ocorrências na ultima década\n",
    "select * \n",
    "from anac_sp \n",
    "where Data between '2010-01-01' and '2020-12-31'"
   ]
  },
  {
   "cell_type": "code",
   "execution_count": 0,
   "metadata": {
    "application/vnd.databricks.v1+cell": {
     "cellMetadata": {
      "byteLimit": 2048000,
      "implicitDf": true,
      "rowLimit": 10000
     },
     "inputWidgets": {},
     "nuid": "bfc2378a-74ea-4e6a-8d3d-af799df585ec",
     "showTitle": false,
     "tableResultSettingsMap": {},
     "title": ""
    }
   },
   "outputs": [],
   "source": [
    "%sql\n",
    "\n",
    "-- Ocorrências leves do tipo SCF-NP\n",
    "select \n",
    "Danos,\n",
    "Tipo_de_Ocorrencia\n",
    "from anac_sp\n",
    "where Danos = 'Leve' and Tipo_de_Ocorrencia = 'SCF-NP'"
   ]
  },
  {
   "cell_type": "code",
   "execution_count": 0,
   "metadata": {
    "application/vnd.databricks.v1+cell": {
     "cellMetadata": {
      "byteLimit": 2048000,
      "implicitDf": true,
      "rowLimit": 10000
     },
     "inputWidgets": {},
     "nuid": "42e879fd-3486-4037-8215-58ec890762c1",
     "showTitle": false,
     "tableResultSettingsMap": {},
     "title": ""
    }
   },
   "outputs": [],
   "source": [
    "%sql\n",
    "\n",
    "--Datas em que ocorreram morte de passageiros\n",
    "select Data,\n",
    "count(Lesoes_Fatais_Passageiros) as mortes\n",
    "from anac_sp\n",
    "group by Data\n",
    "order by mortes desc"
   ]
  }
 ],
 "metadata": {
  "application/vnd.databricks.v1+notebook": {
   "computePreferences": null,
   "dashboards": [],
   "environmentMetadata": {
    "base_environment": "",
    "environment_version": "2"
   },
   "inputWidgetPreferences": null,
   "language": "python",
   "notebookMetadata": {
    "mostRecentlyExecutedCommandWithImplicitDF": {
     "commandId": 6903274952323029,
     "dataframes": [
      "_sqldf"
     ]
    },
    "pythonIndentUnit": 4
   },
   "notebookName": "Anac - Gold",
   "widgets": {}
  },
  "language_info": {
   "name": "python"
  }
 },
 "nbformat": 4,
 "nbformat_minor": 0
}
